{
 "cells": [
  {
   "cell_type": "markdown",
   "metadata": {},
   "source": [
    "# Extract files for ML modeling"
   ]
  },
  {
   "cell_type": "code",
   "execution_count": 1,
   "metadata": {},
   "outputs": [],
   "source": [
    "import pandas as pd\n",
    "import os\n",
    "from itertools import groupby\n",
    "import re\n",
    "import shutil"
   ]
  },
  {
   "cell_type": "code",
   "execution_count": 2,
   "metadata": {},
   "outputs": [
    {
     "data": {
      "text/plain": [
       "['1: 111']"
      ]
     },
     "execution_count": 2,
     "metadata": {},
     "output_type": "execute_result"
    }
   ],
   "source": [
    "path = \"/home/chinmay/Documents/UTHealth/Others/bmi_6002/dataset/imgs\"\n",
    "list_oct_a_enface_count = []\n",
    "for folder in os.listdir(path):\n",
    "    if(\"oct-a-enface\" in os.listdir(os.path.join(path, folder, \"ses-01\"))):\n",
    "        list_oct_a_enface_count.append(1)\n",
    "    else:\n",
    "        list_oct_a_enface_count.append(0)\n",
    "[f\"{key}: {len(list(group))}\" for key, group in groupby(list_oct_a_enface_count)]"
   ]
  },
  {
   "cell_type": "code",
   "execution_count": 3,
   "metadata": {},
   "outputs": [
    {
     "data": {
      "text/plain": [
       "1"
      ]
     },
     "execution_count": 3,
     "metadata": {},
     "output_type": "execute_result"
    }
   ],
   "source": [
    "df_info = pd.read_csv(\"/home/chinmay/Documents/UTHealth/Others/bmi_6002/dataset/pat-info-dataset-paper2022.csv\")\n",
    "df_info[\"subj_ID\"] = df_info[\"record_id\"].apply(lambda id: f\"sub-{id:06}\")\n",
    "df_info[[\"subj_ID\", \"stroke\"]].head()\n",
    "df_info[df_info[\"subj_ID\"] == \"sub-000032\"][\"stroke\"].iloc[0]"
   ]
  },
  {
   "cell_type": "code",
   "execution_count": 18,
   "metadata": {},
   "outputs": [
    {
     "name": "stdout",
     "output_type": "stream",
     "text": [
      "['sub-000032', 'sub-000033', 'sub-000035', 'sub-000036', 'sub-000039', 'sub-000040', 'sub-000042', 'sub-000043', 'sub-000044', 'sub-000046', 'sub-000050', 'sub-000052', 'sub-000055', 'sub-000062', 'sub-000063', 'sub-000068', 'sub-000074', 'sub-000076', 'sub-000077', 'sub-000079', 'sub-000080', 'sub-000082', 'sub-000083', 'sub-000084', 'sub-000086', 'sub-000087', 'sub-000088', 'sub-000091', 'sub-000093', 'sub-000110']\n",
      "==========================================\n",
      "['sub-000001', 'sub-000002', 'sub-000003', 'sub-000004', 'sub-000005', 'sub-000006', 'sub-000007', 'sub-000008', 'sub-000009', 'sub-000010', 'sub-000011', 'sub-000012', 'sub-000013', 'sub-000014', 'sub-000015', 'sub-000016', 'sub-000017', 'sub-000018', 'sub-000019', 'sub-000020', 'sub-000021', 'sub-000022', 'sub-000023', 'sub-000024', 'sub-000025', 'sub-000026', 'sub-000027', 'sub-000028', 'sub-000029', 'sub-000030', 'sub-000031', 'sub-000034', 'sub-000037', 'sub-000038', 'sub-000041', 'sub-000045', 'sub-000047', 'sub-000048', 'sub-000049', 'sub-000051', 'sub-000053', 'sub-000054', 'sub-000056', 'sub-000057', 'sub-000058', 'sub-000059', 'sub-000060', 'sub-000061', 'sub-000064', 'sub-000065', 'sub-000066', 'sub-000067', 'sub-000069', 'sub-000070', 'sub-000071', 'sub-000072', 'sub-000073', 'sub-000075', 'sub-000078', 'sub-000081', 'sub-000085', 'sub-000089', 'sub-000090', 'sub-000092', 'sub-000094', 'sub-000095', 'sub-000096', 'sub-000097', 'sub-000098', 'sub-000099', 'sub-000100', 'sub-000101', 'sub-000102', 'sub-000103', 'sub-000104', 'sub-000105', 'sub-000106', 'sub-000107', 'sub-000108', 'sub-000109', 'sub-000111', 'sub-000112']\n"
     ]
    }
   ],
   "source": [
    "list_stroke = df_info[df_info[\"stroke\"] == 1][\"subj_ID\"].tolist()\n",
    "list_no_stroke = df_info[df_info[\"stroke\"] == 0][\"subj_ID\"].tolist()\n",
    "print(list_stroke)\n",
    "print(\"==========================================\")\n",
    "print(list_no_stroke)"
   ]
  },
  {
   "cell_type": "code",
   "execution_count": 4,
   "metadata": {},
   "outputs": [],
   "source": [
    "path_new = \"/home/chinmay/Documents/UTHealth/Others/bmi_6002/training_dataset\"\n",
    "for folder in os.listdir(path):\n",
    "    # shutil.copy(os.listdir(os.path.join(path, folder, \"ses-01\")), os.path.join(path_new, folder))\n",
    "    if(\"oct-a-enface\" in os.listdir(os.path.join(path, folder, \"ses-01\"))):\n",
    "        path_old = os.path.join(path, folder, \"ses-01\", \"oct-a-enface\")\n",
    "        for filename in [\"Angio Retina_OD-Superficial.png\", \"Angio Retina_OD-Deep.png\", \"Angio Retina_OS-Superficial.png\",\"Angio Retina_OS-Deep.png\"]:\n",
    "            os.makedirs(os.path.join(path_new, folder), exist_ok=True)\n",
    "            subj_ID = df_info[df_info[\"subj_ID\"] == folder][\"subj_ID\"].iloc[0]\n",
    "            filename_new = f\"{filename.split('.')[0]}_{subj_ID}.{filename.split('.')[1]}\"\n",
    "            try:\n",
    "                shutil.copy(os.path.join(path_old, filename), os.path.join(path_new, folder, filename_new))\n",
    "            except:\n",
    "                pass"
   ]
  }
 ],
 "metadata": {
  "interpreter": {
   "hash": "f19db06eb565e81106cb3f188d61214dd164b89f0ce7730afb6f6a0cbcc5d016"
  },
  "kernelspec": {
   "display_name": "Python 3.8.10 ('venv_octa_analysis': venv)",
   "language": "python",
   "name": "python3"
  },
  "language_info": {
   "codemirror_mode": {
    "name": "ipython",
    "version": 3
   },
   "file_extension": ".py",
   "mimetype": "text/x-python",
   "name": "python",
   "nbconvert_exporter": "python",
   "pygments_lexer": "ipython3",
   "version": "3.8.10"
  },
  "orig_nbformat": 4
 },
 "nbformat": 4,
 "nbformat_minor": 2
}
