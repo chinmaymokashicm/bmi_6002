{
 "cells": [
  {
   "cell_type": "code",
   "execution_count": 1,
   "metadata": {},
   "outputs": [],
   "source": [
    "import pandas as pd\n",
    "import numpy as np\n",
    "import os\n",
    "import zipfile\n",
    "import re\n",
    "from tqdm.notebook import tqdm\n",
    "import matplotlib.pyplot as plt"
   ]
  },
  {
   "cell_type": "code",
   "execution_count": 2,
   "metadata": {},
   "outputs": [],
   "source": [
    "path_zipped = \"/home/chinmay/Documents/UTHealth/Others/bmi_6002/pixels\""
   ]
  },
  {
   "cell_type": "code",
   "execution_count": 3,
   "metadata": {},
   "outputs": [
    {
     "data": {
      "application/vnd.jupyter.widget-view+json": {
       "model_id": "e94d7db410284fda8f2df6bc193e9e2b",
       "version_major": 2,
       "version_minor": 0
      },
      "text/plain": [
       "  0%|          | 0/47 [00:00<?, ?it/s]"
      ]
     },
     "metadata": {},
     "output_type": "display_data"
    }
   ],
   "source": [
    "# for foldername_zip in tqdm(os.listdir(path_zipped)):\n",
    "#     try:\n",
    "#         with zipfile.ZipFile(os.path.join(path_zipped, foldername_zip), \"r\") as folder_zip:\n",
    "#             folder_zip.extractall(os.path.join(path_zipped, foldername_zip.split(\".\")[0]))\n",
    "#     except:\n",
    "#         pass"
   ]
  },
  {
   "cell_type": "code",
   "execution_count": 4,
   "metadata": {},
   "outputs": [
    {
     "data": {
      "application/vnd.jupyter.widget-view+json": {
       "model_id": "52e09541802e43cc90b0772485ee777a",
       "version_major": 2,
       "version_minor": 0
      },
      "text/plain": [
       "Folder:   0%|          | 0/47 [00:00<?, ?it/s]"
      ]
     },
     "metadata": {},
     "output_type": "display_data"
    }
   ],
   "source": [
    "list_extracted_folders = [ folder for folder in os.listdir(path_zipped) if \".\" not in folder]\n",
    "list_rows = []\n",
    "\n",
    "for extracted_folder in tqdm(list_extracted_folders, desc=\"Folder\"):\n",
    "    folder = os.path.join(path_zipped, extracted_folder, \"pixels\")\n",
    "    for csv_filename in os.listdir(folder):\n",
    "        df = pd.read_csv(os.path.join(folder, csv_filename))\n",
    "        if(df.empty):\n",
    "            vessel_density = 0\n",
    "        else:\n",
    "            vessel_density = df[\"Red\"].mean()\n",
    "        list_rows.append([csv_filename, vessel_density])\n",
    "\n",
    "df_vessel_density = pd.DataFrame(list_rows, columns=[\"filename\", \"vessel_density\"])"
   ]
  },
  {
   "cell_type": "code",
   "execution_count": 5,
   "metadata": {},
   "outputs": [
    {
     "data": {
      "text/html": [
       "<div>\n",
       "<style scoped>\n",
       "    .dataframe tbody tr th:only-of-type {\n",
       "        vertical-align: middle;\n",
       "    }\n",
       "\n",
       "    .dataframe tbody tr th {\n",
       "        vertical-align: top;\n",
       "    }\n",
       "\n",
       "    .dataframe thead th {\n",
       "        text-align: right;\n",
       "    }\n",
       "</style>\n",
       "<table border=\"1\" class=\"dataframe\">\n",
       "  <thead>\n",
       "    <tr style=\"text-align: right;\">\n",
       "      <th></th>\n",
       "      <th>filename</th>\n",
       "      <th>vessel_density</th>\n",
       "    </tr>\n",
       "  </thead>\n",
       "  <tbody>\n",
       "    <tr>\n",
       "      <th>0</th>\n",
       "      <td>Angio Retina_OD-Superficial_sub-000032.png_IT.csv</td>\n",
       "      <td>61.854353</td>\n",
       "    </tr>\n",
       "    <tr>\n",
       "      <th>1</th>\n",
       "      <td>Angio Retina_OD-Superficial_sub-000032.png_IN.csv</td>\n",
       "      <td>62.046104</td>\n",
       "    </tr>\n",
       "    <tr>\n",
       "      <th>2</th>\n",
       "      <td>Angio Retina_OD-Superficial_sub-000032.png_IS.csv</td>\n",
       "      <td>70.803677</td>\n",
       "    </tr>\n",
       "    <tr>\n",
       "      <th>3</th>\n",
       "      <td>Angio Retina_OS-Superficial_sub-000032.png_IS.csv</td>\n",
       "      <td>64.074333</td>\n",
       "    </tr>\n",
       "    <tr>\n",
       "      <th>4</th>\n",
       "      <td>Angio Retina_OD-Deep_sub-000032.png_II.csv</td>\n",
       "      <td>91.834667</td>\n",
       "    </tr>\n",
       "  </tbody>\n",
       "</table>\n",
       "</div>"
      ],
      "text/plain": [
       "                                            filename  vessel_density\n",
       "0  Angio Retina_OD-Superficial_sub-000032.png_IT.csv       61.854353\n",
       "1  Angio Retina_OD-Superficial_sub-000032.png_IN.csv       62.046104\n",
       "2  Angio Retina_OD-Superficial_sub-000032.png_IS.csv       70.803677\n",
       "3  Angio Retina_OS-Superficial_sub-000032.png_IS.csv       64.074333\n",
       "4         Angio Retina_OD-Deep_sub-000032.png_II.csv       91.834667"
      ]
     },
     "execution_count": 5,
     "metadata": {},
     "output_type": "execute_result"
    },
    {
     "data": {
      "image/png": "[encoded data removed]",
      "text/plain": [
       "<Figure size 432x288 with 1 Axes>"
      ]
     },
     "metadata": {
      "needs_background": "light"
     },
     "output_type": "display_data"
    }
   ],
   "source": [
    "# df = df[[\"Red\", \"Green\", \"Blue\"]]\n",
    "# df.to_numpy().shape\n",
    "df_vessel_density[\"vessel_density\"].hist()\n",
    "df_vessel_density.head()"
   ]
  },
  {
   "cell_type": "code",
   "execution_count": 6,
   "metadata": {},
   "outputs": [],
   "source": [
    "df_vessel_density.to_csv(\"vessel_density.csv\", index=False)"
   ]
  }
 ],
 "metadata": {
  "interpreter": {
   "hash": "f19db06eb565e81106cb3f188d61214dd164b89f0ce7730afb6f6a0cbcc5d016"
  },
  "kernelspec": {
   "display_name": "Python 3.8.10 ('venv_octa_analysis': venv)",
   "language": "python",
   "name": "python3"
  },
  "language_info": {
   "codemirror_mode": {
    "name": "ipython",
    "version": 3
   },
   "file_extension": ".py",
   "mimetype": "text/x-python",
   "name": "python",
   "nbconvert_exporter": "python",
   "pygments_lexer": "ipython3",
   "version": "3.8.10"
  },
  "orig_nbformat": 4
 },
 "nbformat": 4,
 "nbformat_minor": 2
}
